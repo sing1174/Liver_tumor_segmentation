{
  "nbformat": 4,
  "nbformat_minor": 0,
  "metadata": {
    "colab": {
      "provenance": [],
      "gpuType": "V100"
    },
    "kernelspec": {
      "name": "python3",
      "display_name": "Python 3"
    },
    "language_info": {
      "name": "python"
    },
    "accelerator": "GPU"
  },
  "cells": [
    {
      "cell_type": "code",
      "source": [
        "!pip install pydicom"
      ],
      "metadata": {
        "colab": {
          "base_uri": "https://localhost:8080/"
        },
        "id": "L9wxOiIUEklD",
        "outputId": "4f5b8279-3c1b-41b6-aa7c-44f89e166beb"
      },
      "execution_count": null,
      "outputs": [
        {
          "output_type": "stream",
          "name": "stdout",
          "text": [
            "Requirement already satisfied: pydicom in /usr/local/lib/python3.10/dist-packages (2.4.4)\n"
          ]
        }
      ]
    },
    {
      "cell_type": "code",
      "source": [
        "from google.colab import drive\n",
        "drive.mount('/content/drive')"
      ],
      "metadata": {
        "colab": {
          "base_uri": "https://localhost:8080/"
        },
        "id": "4PdgIpmnEm2T",
        "outputId": "26d2ffb8-f979-45df-ca86-9feea6771be3"
      },
      "execution_count": null,
      "outputs": [
        {
          "output_type": "stream",
          "name": "stdout",
          "text": [
            "Drive already mounted at /content/drive; to attempt to forcibly remount, call drive.mount(\"/content/drive\", force_remount=True).\n"
          ]
        }
      ]
    },
    {
      "cell_type": "code",
      "source": [
        "import os\n",
        "os.chdir('/content/drive/MyDrive/imageprocessing')"
      ],
      "metadata": {
        "id": "HeFbDJn6EopN"
      },
      "execution_count": null,
      "outputs": []
    },
    {
      "cell_type": "code",
      "execution_count": null,
      "metadata": {
        "colab": {
          "base_uri": "https://localhost:8080/",
          "height": 34
        },
        "id": "XlvDeG65D_cC",
        "outputId": "2d7a6cfc-d469-4069-80fc-faba4f7fcdbc"
      },
      "outputs": [
        {
          "output_type": "display_data",
          "data": {
            "text/plain": [
              "<Figure size 640x480 with 0 Axes>"
            ]
          },
          "metadata": {}
        }
      ],
      "source": [
        "import os\n",
        "import random\n",
        "import numpy as np\n",
        "import cv2\n",
        "import matplotlib.pyplot as plt\n",
        "from PIL import Image\n",
        "import tensorflow as tf\n",
        "from tensorflow import keras\n",
        "import pydicom\n",
        "\n",
        "plt.set_cmap('gray')\n",
        "%matplotlib inline\n",
        "\n",
        "# Seeding\n",
        "seed = 2019\n",
        "random.seed(seed)\n",
        "np.random.seed(seed)\n",
        "tf.random.set_seed(seed)\n",
        "\n",
        "IMG_DTYPE = np.float64\n",
        "SEG_DTYPE = np.uint8"
      ]
    },
    {
      "cell_type": "code",
      "source": [
        "masks_path = os.path.join('train', 'masks')\n",
        "training_path = os.path.join('train', 'patients')"
      ],
      "metadata": {
        "id": "P8Ty9YoeFcVq"
      },
      "execution_count": null,
      "outputs": []
    },
    {
      "cell_type": "code",
      "source": [
        "def imshow(*args,**kwargs):\n",
        "    cmap = kwargs.get('cmap', 'gray')\n",
        "    title= kwargs.get('title','')\n",
        "    if len(args)==0:\n",
        "        raise ValueError(\"No images given to imshow\")\n",
        "    elif len(args)==1:\n",
        "        plt.title(title)\n",
        "        plt.imshow(args[0], interpolation='none')\n",
        "    else:\n",
        "        n=len(args)\n",
        "        if type(cmap)==str:\n",
        "            cmap = [cmap]*n\n",
        "        if type(title)==str:\n",
        "            title= [title]*n\n",
        "        plt.figure(figsize=(n*5,10))\n",
        "        for i in range(n):\n",
        "            plt.subplot(1,n,i+1)\n",
        "            plt.title(title[i])\n",
        "            plt.imshow(args[i], cmap[i])\n",
        "    plt.show()\n",
        "\n",
        "def normalize_image(img):\n",
        "    \"\"\" Normalize image values to [0,1] \"\"\"\n",
        "    min_, max_ = float(np.min(img)), float(np.max(img))\n",
        "    return (img - min_) / (max_ - min_)"
      ],
      "metadata": {
        "id": "rJIGw7-nFlHl"
      },
      "execution_count": null,
      "outputs": []
    },
    {
      "cell_type": "code",
      "source": [
        "class DataGen(keras.utils.Sequence):\n",
        "    def __init__(self, ids, path, batch_size=8, image_size=128):\n",
        "        self.ids = ids\n",
        "        self.path = path\n",
        "        self.batch_size = batch_size\n",
        "        self.image_size = image_size\n",
        "        self.on_epoch_end()\n",
        "\n",
        "    def __load__(self, id_name):\n",
        "        tumor_volume = None\n",
        "\n",
        "        image_path = os.path.join(self.path, \"patients\", id_name)\n",
        "        mask_path = os.path.join(self.path, \"masks\")\n",
        "        dicom_image = pydicom.dcmread(image_path)\n",
        "\n",
        "        image = step1_preprocess_img_slice(dicom_image.pixel_array)\n",
        "\n",
        "        liver_mask_id = id_name.split('_')\n",
        "        liver_mask = pydicom.dcmread(os.path.join(mask_path, liver_mask_id[0]+'_liver', id_name)).pixel_array\n",
        "\n",
        "        image = np.multiply(image, np.clip(liver_mask, 0, 1))\n",
        "\n",
        "        image = np.array(Image.fromarray(image).resize([self.image_size, self.image_size])).astype(IMG_DTYPE)\n",
        "        mask = cv2.imread(os.path.join(masks_path, 'merged_livertumors', id_name+'.jpg'))\n",
        "\n",
        "        mask = cv2.cvtColor(mask, cv2.COLOR_BGR2GRAY)\n",
        "        _, mask = cv2.threshold(mask, 100, 255, cv2.THRESH_BINARY)\n",
        "        mask = np.array(Image.fromarray(mask).resize([self.image_size, self.image_size])).astype(IMG_DTYPE)\n",
        "        mask = mask // 255\n",
        "\n",
        "        mask = mask[:, :, np.newaxis]\n",
        "\n",
        "        return image, mask\n",
        "\n",
        "    def __getitem__(self, index):\n",
        "        if (index + 1) * self.batch_size > len(self.ids):\n",
        "            self.batch_size = len(self.ids) - index * self.batch_size\n",
        "\n",
        "        files_batch = self.ids[index * self.batch_size: (index + 1) * self.batch_size]\n",
        "        image = []\n",
        "        mask = []\n",
        "        for id_name in files_batch:\n",
        "            _img, _mask = self.__load__(id_name)\n",
        "            _img = np.stack((_img,) * 3, axis=-1)\n",
        "            image.append(_img)\n",
        "            mask.append(_mask)\n",
        "\n",
        "        image = np.array(image)\n",
        "        mask = np.array(mask)\n",
        "\n",
        "        return image, mask\n",
        "\n",
        "    def on_epoch_end(self):\n",
        "        pass\n",
        "\n",
        "    def __len__(self):\n",
        "        return int(np.ceil(len(self.ids) / float(self.batch_size)))\n"
      ],
      "metadata": {
        "id": "WwzzGRWpFpu_"
      },
      "execution_count": null,
      "outputs": []
    },
    {
      "cell_type": "code",
      "source": [
        "# image_size =  256\n",
        "# train_path = \"train\"\n",
        "# batch_size = 8\n",
        "# epochs = 30\n",
        "# ## Training Ids\n",
        "# images = []\n",
        "# for file in os.listdir(os.path.join(train_path, \"patients\")):\n",
        "\n",
        "#     images.append(file)\n",
        "\n",
        "\n",
        "# ## Validation Data Size\n",
        "# val_data_size = len(images)//5 # 20% validation Data\n",
        "# # factor = 0\n",
        "# valid_ids = images[:val_data_size]\n",
        "# train_ids = images[val_data_size:]\n",
        "# print(len(train_ids))"
      ],
      "metadata": {
        "colab": {
          "base_uri": "https://localhost:8080/"
        },
        "id": "YsobC3_BFuIB",
        "outputId": "20e886c1-616e-4c83-ebbd-fc3a242fed16"
      },
      "execution_count": null,
      "outputs": [
        {
          "output_type": "stream",
          "name": "stdout",
          "text": [
            "18617\n"
          ]
        }
      ]
    },
    {
      "cell_type": "markdown",
      "source": [
        "We run this on 25% dataset for speed. Going to 50% can lead to OS error due to disconnection from drive."
      ],
      "metadata": {
        "id": "eqETpn-OVX4x"
      }
    },
    {
      "cell_type": "code",
      "source": [
        "image_size = 256\n",
        "train_path = \"train\"\n",
        "batch_size = 8\n",
        "epochs = 30\n",
        "\n",
        "# Training Ids\n",
        "images = []\n",
        "for file in os.listdir(os.path.join(train_path, \"patients\")):\n",
        "    images.append(file)\n",
        "\n",
        "# Randomly select 25% of the data\n",
        "random.seed(42)  # Set a seed for reproducibility\n",
        "selected_ids = random.sample(images, int(0.25 * len(images)))\n",
        "\n",
        "# Divide into training and validation sets\n",
        "val_data_size = len(selected_ids) // 5  # 20% validation Data\n",
        "valid_ids = selected_ids[:val_data_size]\n",
        "train_ids = selected_ids[val_data_size:]\n",
        "\n",
        "print(len(train_ids))"
      ],
      "metadata": {
        "colab": {
          "base_uri": "https://localhost:8080/"
        },
        "id": "GBAtS9yjQgM8",
        "outputId": "878f57a8-45b9-471e-8fd0-64dc5dff0713"
      },
      "execution_count": null,
      "outputs": [
        {
          "output_type": "stream",
          "name": "stdout",
          "text": [
            "4654\n"
          ]
        }
      ]
    },
    {
      "cell_type": "code",
      "source": [
        "def step1_preprocess_img_slice(img_slc):\n",
        "    img_slc[img_slc > 1200] = 0\n",
        "    img_slc = np.clip(img_slc, -100, 400)\n",
        "    img_slc = normalize_image(img_slc)\n",
        "\n",
        "    img_slc = img_slc * 255\n",
        "    img_slc = img_slc.astype('uint8')\n",
        "    img_slc = cv2.equalizeHist(img_slc)\n",
        "    img_slc = normalize_image(img_slc)\n",
        "    return img_slc"
      ],
      "metadata": {
        "id": "JrM7ZSRdFxPn"
      },
      "execution_count": null,
      "outputs": []
    },
    {
      "cell_type": "code",
      "source": [
        "gen = DataGen(train_ids, train_path, batch_size=batch_size, image_size=image_size)\n",
        "x, y = gen.__getitem__(0)\n"
      ],
      "metadata": {
        "id": "ap_rnQ6UGbBq"
      },
      "execution_count": null,
      "outputs": []
    },
    {
      "cell_type": "code",
      "source": [
        "r = random.randint(0, len(x)-1)\n",
        "r = 0\n",
        "fig = plt.figure(figsize=(10, 10))\n",
        "fig.subplots_adjust(hspace=0.4, wspace=0.4)\n",
        "ax = fig.add_subplot(1, 2, 1)\n",
        "ax.imshow(x[r])\n",
        "print(r)\n",
        "ax = fig.add_subplot(1, 2, 2)\n",
        "ax.imshow(np.reshape(y[r], (image_size, image_size)), cmap=\"gray\")"
      ],
      "metadata": {
        "colab": {
          "base_uri": "https://localhost:8080/",
          "height": 440
        },
        "id": "U6ayfH9dGdrr",
        "outputId": "ab21574f-a7a0-43a4-b2fa-03cc179fce45"
      },
      "execution_count": null,
      "outputs": [
        {
          "output_type": "stream",
          "name": "stderr",
          "text": [
            "WARNING:matplotlib.image:Clipping input data to the valid range for imshow with RGB data ([0..1] for floats or [0..255] for integers).\n"
          ]
        },
        {
          "output_type": "stream",
          "name": "stdout",
          "text": [
            "0\n"
          ]
        },
        {
          "output_type": "execute_result",
          "data": {
            "text/plain": [
              "<matplotlib.image.AxesImage at 0x78a89259f280>"
            ]
          },
          "metadata": {},
          "execution_count": 42
        },
        {
          "output_type": "display_data",
          "data": {
            "text/plain": [
              "<Figure size 1000x1000 with 2 Axes>"
            ],
            "image/png": "[encoded data removed]"
          },
          "metadata": {}
        }
      ]
    },
    {
      "cell_type": "code",
      "source": [
        "def bn_act(x, act=True):\n",
        "    x = keras.layers.BatchNormalization()(x)\n",
        "    if act == True:\n",
        "        x = keras.layers.Activation(\"relu\")(x)\n",
        "    return x\n",
        "\n",
        "def conv_block(x, filters, kernel_size=(3, 3), padding=\"same\", strides=1):\n",
        "    conv = bn_act(x)\n",
        "    conv = keras.layers.Conv2D(filters, kernel_size, padding=padding, strides=strides)(conv)\n",
        "    return conv\n",
        "\n",
        "def stem(x, filters, kernel_size=(3, 3), padding=\"same\", strides=1):\n",
        "    conv = keras.layers.Conv2D(filters, kernel_size, padding=padding, strides=strides)(x)\n",
        "    conv = conv_block(conv, filters, kernel_size=kernel_size, padding=padding, strides=strides)\n",
        "\n",
        "    shortcut = keras.layers.Conv2D(filters, kernel_size=(1, 1), padding=padding, strides=strides)(x)\n",
        "    shortcut = bn_act(shortcut, act=False)\n",
        "\n",
        "    output = keras.layers.Add()([conv, shortcut])\n",
        "    return output\n",
        "\n",
        "def residual_block(x, filters, kernel_size=(3, 3), padding=\"same\", strides=1):\n",
        "    res = conv_block(x, filters, kernel_size=kernel_size, padding=padding, strides=strides)\n",
        "    res = conv_block(res, filters, kernel_size=kernel_size, padding=padding, strides=1)\n",
        "\n",
        "    shortcut = keras.layers.Conv2D(filters, kernel_size=(1, 1), padding=padding, strides=strides)(x)\n",
        "    shortcut = bn_act(shortcut, act=False)\n",
        "\n",
        "    output = keras.layers.Add()([shortcut, res])\n",
        "    return output\n",
        "\n",
        "def upsample_concat_block(x, xskip):\n",
        "    u = keras.layers.UpSampling2D((2, 2))(x)\n",
        "    c = keras.layers.Concatenate()([u, xskip])\n",
        "    return c"
      ],
      "metadata": {
        "id": "btjsSTpjGhAm"
      },
      "execution_count": null,
      "outputs": []
    },
    {
      "cell_type": "code",
      "source": [
        "def ResUNet():\n",
        "    f = [16, 32, 64, 128, 256]\n",
        "    inputs = keras.layers.Input((image_size, image_size, 3))\n",
        "\n",
        "    ## Encoder\n",
        "    e0 = inputs\n",
        "    e1 = stem(e0, f[0])\n",
        "    e2 = residual_block(e1, f[1], strides=2)\n",
        "    e3 = residual_block(e2, f[2], strides=2)\n",
        "    e4 = residual_block(e3, f[3], strides=2)\n",
        "    e5 = residual_block(e4, f[4], strides=2)\n",
        "\n",
        "    ## Bridge\n",
        "    b0 = conv_block(e5, f[4], strides=1)\n",
        "    b1 = conv_block(b0, f[4], strides=1)\n",
        "\n",
        "    ## Decoder\n",
        "    u1 = upsample_concat_block(b1, e4)\n",
        "    d1 = residual_block(u1, f[4])\n",
        "\n",
        "    u2 = upsample_concat_block(d1, e3)\n",
        "    d2 = residual_block(u2, f[3])\n",
        "\n",
        "    u3 = upsample_concat_block(d2, e2)\n",
        "    d3 = residual_block(u3, f[2])\n",
        "\n",
        "    u4 = upsample_concat_block(d3, e1)\n",
        "    d4 = residual_block(u4, f[1])\n",
        "\n",
        "    outputs = keras.layers.Conv2D(1, (1, 1), padding=\"same\", activation=\"sigmoid\")(d4)\n",
        "    model = keras.models.Model(inputs, outputs)\n",
        "    return model"
      ],
      "metadata": {
        "id": "BHB6-X8dGjqM"
      },
      "execution_count": null,
      "outputs": []
    },
    {
      "cell_type": "code",
      "source": [
        "smooth = 1.\n",
        "\n",
        "def dice_coef(y_true, y_pred):\n",
        "    y_true_f = tf.reshape(y_true, [-1])\n",
        "    y_pred_f = tf.reshape(y_pred, [-1])\n",
        "    intersection = tf.reduce_sum(y_true_f * y_pred_f)\n",
        "    return (2. * intersection + smooth) / (tf.reduce_sum(y_true_f) + tf.reduce_sum(y_pred_f) + smooth)\n",
        "\n",
        "def dice_coef_loss(y_true, y_pred):\n",
        "    return 1.0 - dice_coef(y_true, y_pred)"
      ],
      "metadata": {
        "id": "ONthydvXGmrO"
      },
      "execution_count": null,
      "outputs": []
    },
    {
      "cell_type": "code",
      "source": [
        "model = ResUNet()\n",
        "adam = keras.optimizers.Adam()\n",
        "model.compile(optimizer=adam, loss=dice_coef_loss, metrics=[\"acc\", dice_coef])\n",
        "model.summary()\n"
      ],
      "metadata": {
        "colab": {
          "base_uri": "https://localhost:8080/"
        },
        "id": "HqYRftn2GqDe",
        "outputId": "a6f984fd-25dd-49ef-e31c-57a09a0c2ab5"
      },
      "execution_count": null,
      "outputs": [
        {
          "output_type": "stream",
          "name": "stdout",
          "text": [
            "Model: \"model_2\"\n",
            "__________________________________________________________________________________________________\n",
            " Layer (type)                Output Shape                 Param #   Connected to                  \n",
            "==================================================================================================\n",
            " input_3 (InputLayer)        [(None, 256, 256, 3)]        0         []                            \n",
            "                                                                                                  \n",
            " conv2d_60 (Conv2D)          (None, 256, 256, 16)         448       ['input_3[0][0]']             \n",
            "                                                                                                  \n",
            " batch_normalization_56 (Ba  (None, 256, 256, 16)         64        ['conv2d_60[0][0]']           \n",
            " tchNormalization)                                                                                \n",
            "                                                                                                  \n",
            " activation_38 (Activation)  (None, 256, 256, 16)         0         ['batch_normalization_56[0][0]\n",
            "                                                                    ']                            \n",
            "                                                                                                  \n",
            " conv2d_62 (Conv2D)          (None, 256, 256, 16)         64        ['input_3[0][0]']             \n",
            "                                                                                                  \n",
            " conv2d_61 (Conv2D)          (None, 256, 256, 16)         2320      ['activation_38[0][0]']       \n",
            "                                                                                                  \n",
            " batch_normalization_57 (Ba  (None, 256, 256, 16)         64        ['conv2d_62[0][0]']           \n",
            " tchNormalization)                                                                                \n",
            "                                                                                                  \n",
            " add_18 (Add)                (None, 256, 256, 16)         0         ['conv2d_61[0][0]',           \n",
            "                                                                     'batch_normalization_57[0][0]\n",
            "                                                                    ']                            \n",
            "                                                                                                  \n",
            " batch_normalization_58 (Ba  (None, 256, 256, 16)         64        ['add_18[0][0]']              \n",
            " tchNormalization)                                                                                \n",
            "                                                                                                  \n",
            " activation_39 (Activation)  (None, 256, 256, 16)         0         ['batch_normalization_58[0][0]\n",
            "                                                                    ']                            \n",
            "                                                                                                  \n",
            " conv2d_63 (Conv2D)          (None, 128, 128, 32)         4640      ['activation_39[0][0]']       \n",
            "                                                                                                  \n",
            " batch_normalization_59 (Ba  (None, 128, 128, 32)         128       ['conv2d_63[0][0]']           \n",
            " tchNormalization)                                                                                \n",
            "                                                                                                  \n",
            " conv2d_65 (Conv2D)          (None, 128, 128, 32)         544       ['add_18[0][0]']              \n",
            "                                                                                                  \n",
            " activation_40 (Activation)  (None, 128, 128, 32)         0         ['batch_normalization_59[0][0]\n",
            "                                                                    ']                            \n",
            "                                                                                                  \n",
            " batch_normalization_60 (Ba  (None, 128, 128, 32)         128       ['conv2d_65[0][0]']           \n",
            " tchNormalization)                                                                                \n",
            "                                                                                                  \n",
            " conv2d_64 (Conv2D)          (None, 128, 128, 32)         9248      ['activation_40[0][0]']       \n",
            "                                                                                                  \n",
            " add_19 (Add)                (None, 128, 128, 32)         0         ['batch_normalization_60[0][0]\n",
            "                                                                    ',                            \n",
            "                                                                     'conv2d_64[0][0]']           \n",
            "                                                                                                  \n",
            " batch_normalization_61 (Ba  (None, 128, 128, 32)         128       ['add_19[0][0]']              \n",
            " tchNormalization)                                                                                \n",
            "                                                                                                  \n",
            " activation_41 (Activation)  (None, 128, 128, 32)         0         ['batch_normalization_61[0][0]\n",
            "                                                                    ']                            \n",
            "                                                                                                  \n",
            " conv2d_66 (Conv2D)          (None, 64, 64, 64)           18496     ['activation_41[0][0]']       \n",
            "                                                                                                  \n",
            " batch_normalization_62 (Ba  (None, 64, 64, 64)           256       ['conv2d_66[0][0]']           \n",
            " tchNormalization)                                                                                \n",
            "                                                                                                  \n",
            " conv2d_68 (Conv2D)          (None, 64, 64, 64)           2112      ['add_19[0][0]']              \n",
            "                                                                                                  \n",
            " activation_42 (Activation)  (None, 64, 64, 64)           0         ['batch_normalization_62[0][0]\n",
            "                                                                    ']                            \n",
            "                                                                                                  \n",
            " batch_normalization_63 (Ba  (None, 64, 64, 64)           256       ['conv2d_68[0][0]']           \n",
            " tchNormalization)                                                                                \n",
            "                                                                                                  \n",
            " conv2d_67 (Conv2D)          (None, 64, 64, 64)           36928     ['activation_42[0][0]']       \n",
            "                                                                                                  \n",
            " add_20 (Add)                (None, 64, 64, 64)           0         ['batch_normalization_63[0][0]\n",
            "                                                                    ',                            \n",
            "                                                                     'conv2d_67[0][0]']           \n",
            "                                                                                                  \n",
            " batch_normalization_64 (Ba  (None, 64, 64, 64)           256       ['add_20[0][0]']              \n",
            " tchNormalization)                                                                                \n",
            "                                                                                                  \n",
            " activation_43 (Activation)  (None, 64, 64, 64)           0         ['batch_normalization_64[0][0]\n",
            "                                                                    ']                            \n",
            "                                                                                                  \n",
            " conv2d_69 (Conv2D)          (None, 32, 32, 128)          73856     ['activation_43[0][0]']       \n",
            "                                                                                                  \n",
            " batch_normalization_65 (Ba  (None, 32, 32, 128)          512       ['conv2d_69[0][0]']           \n",
            " tchNormalization)                                                                                \n",
            "                                                                                                  \n",
            " conv2d_71 (Conv2D)          (None, 32, 32, 128)          8320      ['add_20[0][0]']              \n",
            "                                                                                                  \n",
            " activation_44 (Activation)  (None, 32, 32, 128)          0         ['batch_normalization_65[0][0]\n",
            "                                                                    ']                            \n",
            "                                                                                                  \n",
            " batch_normalization_66 (Ba  (None, 32, 32, 128)          512       ['conv2d_71[0][0]']           \n",
            " tchNormalization)                                                                                \n",
            "                                                                                                  \n",
            " conv2d_70 (Conv2D)          (None, 32, 32, 128)          147584    ['activation_44[0][0]']       \n",
            "                                                                                                  \n",
            " add_21 (Add)                (None, 32, 32, 128)          0         ['batch_normalization_66[0][0]\n",
            "                                                                    ',                            \n",
            "                                                                     'conv2d_70[0][0]']           \n",
            "                                                                                                  \n",
            " batch_normalization_67 (Ba  (None, 32, 32, 128)          512       ['add_21[0][0]']              \n",
            " tchNormalization)                                                                                \n",
            "                                                                                                  \n",
            " activation_45 (Activation)  (None, 32, 32, 128)          0         ['batch_normalization_67[0][0]\n",
            "                                                                    ']                            \n",
            "                                                                                                  \n",
            " conv2d_72 (Conv2D)          (None, 16, 16, 256)          295168    ['activation_45[0][0]']       \n",
            "                                                                                                  \n",
            " batch_normalization_68 (Ba  (None, 16, 16, 256)          1024      ['conv2d_72[0][0]']           \n",
            " tchNormalization)                                                                                \n",
            "                                                                                                  \n",
            " conv2d_74 (Conv2D)          (None, 16, 16, 256)          33024     ['add_21[0][0]']              \n",
            "                                                                                                  \n",
            " activation_46 (Activation)  (None, 16, 16, 256)          0         ['batch_normalization_68[0][0]\n",
            "                                                                    ']                            \n",
            "                                                                                                  \n",
            " batch_normalization_69 (Ba  (None, 16, 16, 256)          1024      ['conv2d_74[0][0]']           \n",
            " tchNormalization)                                                                                \n",
            "                                                                                                  \n",
            " conv2d_73 (Conv2D)          (None, 16, 16, 256)          590080    ['activation_46[0][0]']       \n",
            "                                                                                                  \n",
            " add_22 (Add)                (None, 16, 16, 256)          0         ['batch_normalization_69[0][0]\n",
            "                                                                    ',                            \n",
            "                                                                     'conv2d_73[0][0]']           \n",
            "                                                                                                  \n",
            " batch_normalization_70 (Ba  (None, 16, 16, 256)          1024      ['add_22[0][0]']              \n",
            " tchNormalization)                                                                                \n",
            "                                                                                                  \n",
            " activation_47 (Activation)  (None, 16, 16, 256)          0         ['batch_normalization_70[0][0]\n",
            "                                                                    ']                            \n",
            "                                                                                                  \n",
            " conv2d_75 (Conv2D)          (None, 16, 16, 256)          590080    ['activation_47[0][0]']       \n",
            "                                                                                                  \n",
            " batch_normalization_71 (Ba  (None, 16, 16, 256)          1024      ['conv2d_75[0][0]']           \n",
            " tchNormalization)                                                                                \n",
            "                                                                                                  \n",
            " activation_48 (Activation)  (None, 16, 16, 256)          0         ['batch_normalization_71[0][0]\n",
            "                                                                    ']                            \n",
            "                                                                                                  \n",
            " conv2d_76 (Conv2D)          (None, 16, 16, 256)          590080    ['activation_48[0][0]']       \n",
            "                                                                                                  \n",
            " up_sampling2d_8 (UpSamplin  (None, 32, 32, 256)          0         ['conv2d_76[0][0]']           \n",
            " g2D)                                                                                             \n",
            "                                                                                                  \n",
            " concatenate_8 (Concatenate  (None, 32, 32, 384)          0         ['up_sampling2d_8[0][0]',     \n",
            " )                                                                   'add_21[0][0]']              \n",
            "                                                                                                  \n",
            " batch_normalization_72 (Ba  (None, 32, 32, 384)          1536      ['concatenate_8[0][0]']       \n",
            " tchNormalization)                                                                                \n",
            "                                                                                                  \n",
            " activation_49 (Activation)  (None, 32, 32, 384)          0         ['batch_normalization_72[0][0]\n",
            "                                                                    ']                            \n",
            "                                                                                                  \n",
            " conv2d_77 (Conv2D)          (None, 32, 32, 256)          884992    ['activation_49[0][0]']       \n",
            "                                                                                                  \n",
            " batch_normalization_73 (Ba  (None, 32, 32, 256)          1024      ['conv2d_77[0][0]']           \n",
            " tchNormalization)                                                                                \n",
            "                                                                                                  \n",
            " conv2d_79 (Conv2D)          (None, 32, 32, 256)          98560     ['concatenate_8[0][0]']       \n",
            "                                                                                                  \n",
            " activation_50 (Activation)  (None, 32, 32, 256)          0         ['batch_normalization_73[0][0]\n",
            "                                                                    ']                            \n",
            "                                                                                                  \n",
            " batch_normalization_74 (Ba  (None, 32, 32, 256)          1024      ['conv2d_79[0][0]']           \n",
            " tchNormalization)                                                                                \n",
            "                                                                                                  \n",
            " conv2d_78 (Conv2D)          (None, 32, 32, 256)          590080    ['activation_50[0][0]']       \n",
            "                                                                                                  \n",
            " add_23 (Add)                (None, 32, 32, 256)          0         ['batch_normalization_74[0][0]\n",
            "                                                                    ',                            \n",
            "                                                                     'conv2d_78[0][0]']           \n",
            "                                                                                                  \n",
            " up_sampling2d_9 (UpSamplin  (None, 64, 64, 256)          0         ['add_23[0][0]']              \n",
            " g2D)                                                                                             \n",
            "                                                                                                  \n",
            " concatenate_9 (Concatenate  (None, 64, 64, 320)          0         ['up_sampling2d_9[0][0]',     \n",
            " )                                                                   'add_20[0][0]']              \n",
            "                                                                                                  \n",
            " batch_normalization_75 (Ba  (None, 64, 64, 320)          1280      ['concatenate_9[0][0]']       \n",
            " tchNormalization)                                                                                \n",
            "                                                                                                  \n",
            " activation_51 (Activation)  (None, 64, 64, 320)          0         ['batch_normalization_75[0][0]\n",
            "                                                                    ']                            \n",
            "                                                                                                  \n",
            " conv2d_80 (Conv2D)          (None, 64, 64, 128)          368768    ['activation_51[0][0]']       \n",
            "                                                                                                  \n",
            " batch_normalization_76 (Ba  (None, 64, 64, 128)          512       ['conv2d_80[0][0]']           \n",
            " tchNormalization)                                                                                \n",
            "                                                                                                  \n",
            " conv2d_82 (Conv2D)          (None, 64, 64, 128)          41088     ['concatenate_9[0][0]']       \n",
            "                                                                                                  \n",
            " activation_52 (Activation)  (None, 64, 64, 128)          0         ['batch_normalization_76[0][0]\n",
            "                                                                    ']                            \n",
            "                                                                                                  \n",
            " batch_normalization_77 (Ba  (None, 64, 64, 128)          512       ['conv2d_82[0][0]']           \n",
            " tchNormalization)                                                                                \n",
            "                                                                                                  \n",
            " conv2d_81 (Conv2D)          (None, 64, 64, 128)          147584    ['activation_52[0][0]']       \n",
            "                                                                                                  \n",
            " add_24 (Add)                (None, 64, 64, 128)          0         ['batch_normalization_77[0][0]\n",
            "                                                                    ',                            \n",
            "                                                                     'conv2d_81[0][0]']           \n",
            "                                                                                                  \n",
            " up_sampling2d_10 (UpSampli  (None, 128, 128, 128)        0         ['add_24[0][0]']              \n",
            " ng2D)                                                                                            \n",
            "                                                                                                  \n",
            " concatenate_10 (Concatenat  (None, 128, 128, 160)        0         ['up_sampling2d_10[0][0]',    \n",
            " e)                                                                  'add_19[0][0]']              \n",
            "                                                                                                  \n",
            " batch_normalization_78 (Ba  (None, 128, 128, 160)        640       ['concatenate_10[0][0]']      \n",
            " tchNormalization)                                                                                \n",
            "                                                                                                  \n",
            " activation_53 (Activation)  (None, 128, 128, 160)        0         ['batch_normalization_78[0][0]\n",
            "                                                                    ']                            \n",
            "                                                                                                  \n",
            " conv2d_83 (Conv2D)          (None, 128, 128, 64)         92224     ['activation_53[0][0]']       \n",
            "                                                                                                  \n",
            " batch_normalization_79 (Ba  (None, 128, 128, 64)         256       ['conv2d_83[0][0]']           \n",
            " tchNormalization)                                                                                \n",
            "                                                                                                  \n",
            " conv2d_85 (Conv2D)          (None, 128, 128, 64)         10304     ['concatenate_10[0][0]']      \n",
            "                                                                                                  \n",
            " activation_54 (Activation)  (None, 128, 128, 64)         0         ['batch_normalization_79[0][0]\n",
            "                                                                    ']                            \n",
            "                                                                                                  \n",
            " batch_normalization_80 (Ba  (None, 128, 128, 64)         256       ['conv2d_85[0][0]']           \n",
            " tchNormalization)                                                                                \n",
            "                                                                                                  \n",
            " conv2d_84 (Conv2D)          (None, 128, 128, 64)         36928     ['activation_54[0][0]']       \n",
            "                                                                                                  \n",
            " add_25 (Add)                (None, 128, 128, 64)         0         ['batch_normalization_80[0][0]\n",
            "                                                                    ',                            \n",
            "                                                                     'conv2d_84[0][0]']           \n",
            "                                                                                                  \n",
            " up_sampling2d_11 (UpSampli  (None, 256, 256, 64)         0         ['add_25[0][0]']              \n",
            " ng2D)                                                                                            \n",
            "                                                                                                  \n",
            " concatenate_11 (Concatenat  (None, 256, 256, 80)         0         ['up_sampling2d_11[0][0]',    \n",
            " e)                                                                  'add_18[0][0]']              \n",
            "                                                                                                  \n",
            " batch_normalization_81 (Ba  (None, 256, 256, 80)         320       ['concatenate_11[0][0]']      \n",
            " tchNormalization)                                                                                \n",
            "                                                                                                  \n",
            " activation_55 (Activation)  (None, 256, 256, 80)         0         ['batch_normalization_81[0][0]\n",
            "                                                                    ']                            \n",
            "                                                                                                  \n",
            " conv2d_86 (Conv2D)          (None, 256, 256, 32)         23072     ['activation_55[0][0]']       \n",
            "                                                                                                  \n",
            " batch_normalization_82 (Ba  (None, 256, 256, 32)         128       ['conv2d_86[0][0]']           \n",
            " tchNormalization)                                                                                \n",
            "                                                                                                  \n",
            " conv2d_88 (Conv2D)          (None, 256, 256, 32)         2592      ['concatenate_11[0][0]']      \n",
            "                                                                                                  \n",
            " activation_56 (Activation)  (None, 256, 256, 32)         0         ['batch_normalization_82[0][0]\n",
            "                                                                    ']                            \n",
            "                                                                                                  \n",
            " batch_normalization_83 (Ba  (None, 256, 256, 32)         128       ['conv2d_88[0][0]']           \n",
            " tchNormalization)                                                                                \n",
            "                                                                                                  \n",
            " conv2d_87 (Conv2D)          (None, 256, 256, 32)         9248      ['activation_56[0][0]']       \n",
            "                                                                                                  \n",
            " add_26 (Add)                (None, 256, 256, 32)         0         ['batch_normalization_83[0][0]\n",
            "                                                                    ',                            \n",
            "                                                                     'conv2d_87[0][0]']           \n",
            "                                                                                                  \n",
            " conv2d_89 (Conv2D)          (None, 256, 256, 1)          33        ['add_26[0][0]']              \n",
            "                                                                                                  \n",
            "==================================================================================================\n",
            "Total params: 4723057 (18.02 MB)\n",
            "Trainable params: 4715761 (17.99 MB)\n",
            "Non-trainable params: 7296 (28.50 KB)\n",
            "__________________________________________________________________________________________________\n"
          ]
        }
      ]
    },
    {
      "cell_type": "code",
      "source": [
        "# Train the model\n",
        "train_gen = DataGen(train_ids, train_path, image_size=image_size, batch_size=batch_size)\n",
        "valid_gen = DataGen(valid_ids, train_path, image_size=image_size, batch_size=batch_size)\n",
        "\n",
        "train_steps = len(train_ids) // batch_size\n",
        "valid_steps = len(valid_ids) // batch_size"
      ],
      "metadata": {
        "id": "dkqnne7BOrBc"
      },
      "execution_count": null,
      "outputs": []
    },
    {
      "cell_type": "code",
      "source": [
        "with tf.device('/device:GPU:0'):\n",
        "    model.fit(train_gen, validation_data=valid_gen, steps_per_epoch=train_steps, validation_steps=valid_steps, epochs=epochs)"
      ],
      "metadata": {
        "colab": {
          "base_uri": "https://localhost:8080/"
        },
        "id": "17aHKuFHOs_o",
        "outputId": "643cad15-6e7d-4b06-ae11-e4581e1e4563"
      },
      "execution_count": null,
      "outputs": [
        {
          "output_type": "stream",
          "name": "stdout",
          "text": [
            "Epoch 1/30\n",
            "581/581 [==============================] - 7156s 12s/step - loss: 0.6114 - acc: 0.9795 - dice_coef: 0.3977 - val_loss: 0.8145 - val_acc: 0.9328 - val_dice_coef: 0.1855\n",
            "Epoch 2/30\n",
            "581/581 [==============================] - 907s 2s/step - loss: 0.4629 - acc: 0.9928 - dice_coef: 0.5361 - val_loss: 0.7656 - val_acc: 0.9513 - val_dice_coef: 0.2344\n",
            "Epoch 3/30\n",
            "581/581 [==============================] - 267s 460ms/step - loss: 0.5270 - acc: 0.9916 - dice_coef: 0.4644 - val_loss: 0.7977 - val_acc: 0.9343 - val_dice_coef: 0.2023\n",
            "Epoch 4/30\n",
            "581/581 [==============================] - 219s 377ms/step - loss: 0.5101 - acc: 0.9925 - dice_coef: 0.4899 - val_loss: 0.9870 - val_acc: 0.9924 - val_dice_coef: 0.0130\n",
            "Epoch 5/30\n",
            "581/581 [==============================] - 201s 347ms/step - loss: 0.5243 - acc: 0.9931 - dice_coef: 0.4757 - val_loss: 0.4896 - val_acc: 0.9922 - val_dice_coef: 0.5104\n",
            "Epoch 6/30\n",
            "581/581 [==============================] - 207s 354ms/step - loss: 0.5043 - acc: 0.9921 - dice_coef: 0.4957 - val_loss: 0.6307 - val_acc: 0.9937 - val_dice_coef: 0.3693\n",
            "Epoch 7/30\n",
            "581/581 [==============================] - 150s 258ms/step - loss: 0.5358 - acc: 0.9933 - dice_coef: 0.4642 - val_loss: 0.7332 - val_acc: 0.9754 - val_dice_coef: 0.2668\n",
            "Epoch 8/30\n",
            "581/581 [==============================] - 138s 238ms/step - loss: 0.4847 - acc: 0.9936 - dice_coef: 0.5153 - val_loss: 0.5356 - val_acc: 0.9947 - val_dice_coef: 0.4644\n",
            "Epoch 9/30\n",
            "581/581 [==============================] - 117s 202ms/step - loss: 0.4188 - acc: 0.9942 - dice_coef: 0.5812 - val_loss: 0.5315 - val_acc: 0.9950 - val_dice_coef: 0.4685\n",
            "Epoch 10/30\n",
            "581/581 [==============================] - 93s 161ms/step - loss: 0.4213 - acc: 0.9950 - dice_coef: 0.5787 - val_loss: 0.4630 - val_acc: 0.9907 - val_dice_coef: 0.5370\n",
            "Epoch 11/30\n",
            "581/581 [==============================] - 99s 171ms/step - loss: 0.4194 - acc: 0.9951 - dice_coef: 0.5806 - val_loss: 0.7948 - val_acc: 0.9338 - val_dice_coef: 0.2052\n",
            "Epoch 12/30\n",
            "581/581 [==============================] - 64s 110ms/step - loss: 0.4477 - acc: 0.9942 - dice_coef: 0.5523 - val_loss: 0.5682 - val_acc: 0.9946 - val_dice_coef: 0.4318\n",
            "Epoch 13/30\n",
            "581/581 [==============================] - 76s 131ms/step - loss: 0.4291 - acc: 0.9945 - dice_coef: 0.5709 - val_loss: 0.8306 - val_acc: 0.9930 - val_dice_coef: 0.1694\n",
            "Epoch 14/30\n",
            "581/581 [==============================] - 74s 126ms/step - loss: 0.4301 - acc: 0.9949 - dice_coef: 0.5699 - val_loss: 0.7898 - val_acc: 0.9452 - val_dice_coef: 0.2102\n",
            "Epoch 15/30\n",
            "581/581 [==============================] - 75s 129ms/step - loss: 0.4403 - acc: 0.9939 - dice_coef: 0.5597 - val_loss: 0.4954 - val_acc: 0.9901 - val_dice_coef: 0.5046\n",
            "Epoch 16/30\n",
            "581/581 [==============================] - 64s 111ms/step - loss: 0.3734 - acc: 0.9955 - dice_coef: 0.6266 - val_loss: 0.3792 - val_acc: 0.9951 - val_dice_coef: 0.6208\n",
            "Epoch 17/30\n",
            "581/581 [==============================] - 61s 105ms/step - loss: 0.4053 - acc: 0.9952 - dice_coef: 0.5947 - val_loss: 0.4727 - val_acc: 0.9947 - val_dice_coef: 0.5273\n",
            "Epoch 18/30\n",
            "581/581 [==============================] - 65s 112ms/step - loss: 0.4471 - acc: 0.9946 - dice_coef: 0.5529 - val_loss: 0.8006 - val_acc: 0.9314 - val_dice_coef: 0.1994\n",
            "Epoch 19/30\n",
            "581/581 [==============================] - 57s 98ms/step - loss: 0.3454 - acc: 0.9962 - dice_coef: 0.6546 - val_loss: 0.3290 - val_acc: 0.9961 - val_dice_coef: 0.6710\n",
            "Epoch 20/30\n",
            "581/581 [==============================] - 67s 116ms/step - loss: 0.3858 - acc: 0.9957 - dice_coef: 0.6142 - val_loss: 0.4628 - val_acc: 0.9954 - val_dice_coef: 0.5372\n",
            "Epoch 21/30\n",
            "581/581 [==============================] - 62s 107ms/step - loss: 0.4046 - acc: 0.9949 - dice_coef: 0.5954 - val_loss: 0.4041 - val_acc: 0.9953 - val_dice_coef: 0.5959\n",
            "Epoch 22/30\n",
            "581/581 [==============================] - 63s 108ms/step - loss: 0.3701 - acc: 0.9960 - dice_coef: 0.6299 - val_loss: 0.4366 - val_acc: 0.9955 - val_dice_coef: 0.5634\n",
            "Epoch 23/30\n",
            "581/581 [==============================] - 60s 103ms/step - loss: 0.3820 - acc: 0.9957 - dice_coef: 0.6180 - val_loss: 0.4485 - val_acc: 0.9954 - val_dice_coef: 0.5515\n",
            "Epoch 24/30\n",
            "581/581 [==============================] - 62s 107ms/step - loss: 0.3959 - acc: 0.9955 - dice_coef: 0.6041 - val_loss: 0.4716 - val_acc: 0.9911 - val_dice_coef: 0.5284\n",
            "Epoch 25/30\n",
            "581/581 [==============================] - 61s 106ms/step - loss: 0.4135 - acc: 0.9953 - dice_coef: 0.5865 - val_loss: 0.5361 - val_acc: 0.9943 - val_dice_coef: 0.4639\n",
            "Epoch 26/30\n",
            "581/581 [==============================] - 57s 98ms/step - loss: 0.4018 - acc: 0.9951 - dice_coef: 0.5982 - val_loss: 0.5750 - val_acc: 0.9886 - val_dice_coef: 0.4250\n",
            "Epoch 27/30\n",
            "581/581 [==============================] - 55s 95ms/step - loss: 0.3893 - acc: 0.9954 - dice_coef: 0.6107 - val_loss: 0.4037 - val_acc: 0.9930 - val_dice_coef: 0.5963\n",
            "Epoch 28/30\n",
            "581/581 [==============================] - 53s 91ms/step - loss: 0.4518 - acc: 0.9946 - dice_coef: 0.5482 - val_loss: 0.4034 - val_acc: 0.9954 - val_dice_coef: 0.5966\n",
            "Epoch 29/30\n",
            "581/581 [==============================] - 52s 89ms/step - loss: 0.4004 - acc: 0.9950 - dice_coef: 0.5996 - val_loss: 0.4399 - val_acc: 0.9945 - val_dice_coef: 0.5601\n",
            "Epoch 30/30\n",
            "581/581 [==============================] - 63s 108ms/step - loss: 0.3707 - acc: 0.9956 - dice_coef: 0.6293 - val_loss: 0.4633 - val_acc: 0.9954 - val_dice_coef: 0.5367\n"
          ]
        }
      ]
    },
    {
      "cell_type": "code",
      "source": [
        "# train_gen = DataGen(train_ids, train_path, image_size=image_size, batch_size=batch_size)\n",
        "# valid_gen = DataGen(valid_ids, train_path, image_size=image_size, batch_size=batch_size)\n",
        "\n",
        "# train_steps = len(train_ids) // batch_size\n",
        "# valid_steps = len(valid_ids) // batch_size\n",
        "\n",
        "# model.fit(train_gen, validation_data=valid_gen, steps_per_epoch=train_steps, validation_steps=valid_steps, epochs=epochs)"
      ],
      "metadata": {
        "id": "Y01LlI9qGvCn"
      },
      "execution_count": null,
      "outputs": []
    },
    {
      "cell_type": "code",
      "source": [
        "model.save('tumor_model_result.h5')  # creates a HDF5 file 'my_model.h5'\n",
        "# model.save_weights(\"tumor_weights_final_50epochs.h5\")\n"
      ],
      "metadata": {
        "colab": {
          "base_uri": "https://localhost:8080/"
        },
        "id": "DYiSl7M-7zoe",
        "outputId": "5a3f5e8c-fe3e-4948-8aba-9b0af30925f7"
      },
      "execution_count": null,
      "outputs": [
        {
          "output_type": "stream",
          "name": "stderr",
          "text": [
            "/usr/local/lib/python3.10/dist-packages/keras/src/engine/training.py:3103: UserWarning: You are saving your model as an HDF5 file via `model.save()`. This file format is considered legacy. We recommend using instead the native Keras format, e.g. `model.save('my_model.keras')`.\n",
            "  saving_api.save_model(\n"
          ]
        }
      ]
    }
  ]
}